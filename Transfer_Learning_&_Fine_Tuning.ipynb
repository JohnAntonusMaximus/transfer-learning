{
  "nbformat": 4,
  "nbformat_minor": 0,
  "metadata": {
    "colab": {
      "name": "Transfer Learning & Fine Tuning.ipynb",
      "version": "0.3.2",
      "provenance": [],
      "include_colab_link": true
    },
    "kernelspec": {
      "name": "python3",
      "display_name": "Python 3"
    }
  },
  "cells": [
    {
      "cell_type": "markdown",
      "metadata": {
        "id": "view-in-github",
        "colab_type": "text"
      },
      "source": [
        "<a href=\"https://colab.research.google.com/github/JohnAntonusMaximus/transfer-learning/blob/master/Transfer_Learning_%26_Fine_Tuning.ipynb\" target=\"_parent\"><img src=\"https://colab.research.google.com/assets/colab-badge.svg\" alt=\"Open In Colab\"/></a>"
      ]
    },
    {
      "cell_type": "markdown",
      "metadata": {
        "id": "MQs4YgyPs07d",
        "colab_type": "text"
      },
      "source": [
        "# Cat Dog Classifier Using MobileNetV2 Transfer Learning & Fine Tuning\n"
      ]
    },
    {
      "cell_type": "markdown",
      "metadata": {
        "id": "DVtJXz1h--_4",
        "colab_type": "text"
      },
      "source": [
        "![dog and cat analyzer](https://live.staticflickr.com/4544/38228876666_3782386ca7_b.jpg)\n"
      ]
    },
    {
      "cell_type": "markdown",
      "metadata": {
        "id": "fy1hOuUvL6ce",
        "colab_type": "text"
      },
      "source": [
        "### Load Dependencies and Imports"
      ]
    },
    {
      "cell_type": "code",
      "metadata": {
        "id": "Gcxms2Q7_BYD",
        "colab_type": "code",
        "colab": {}
      },
      "source": [
        "!pip install tensorflow-gpu==2.0.0-alpha"
      ],
      "execution_count": 0,
      "outputs": []
    },
    {
      "cell_type": "code",
      "metadata": {
        "id": "D0XnUG_V_SDn",
        "colab_type": "code",
        "colab": {}
      },
      "source": [
        "!pip install tqdm"
      ],
      "execution_count": 0,
      "outputs": []
    },
    {
      "cell_type": "markdown",
      "metadata": {
        "id": "V-9xDQzjL-ye",
        "colab_type": "text"
      },
      "source": [
        "### Get the dataset"
      ]
    },
    {
      "cell_type": "code",
      "metadata": {
        "id": "ySux-43D_WHe",
        "colab_type": "code",
        "colab": {}
      },
      "source": [
        "!wget --no-check-certificate \\\n",
        "    https://storage.googleapis.com/mledu-datasets/cats_and_dogs_filtered.zip \\\n",
        "    -O ./cats_and_dogs_filtered.zip"
      ],
      "execution_count": 0,
      "outputs": []
    },
    {
      "cell_type": "code",
      "metadata": {
        "id": "l5DonUMJ_oPE",
        "colab_type": "code",
        "colab": {}
      },
      "source": [
        "import os\n",
        "import zipfile\n",
        "import numpy as np\n",
        "import tensorflow as tf\n",
        "import matplotlib.pyplot as plt\n",
        "\n",
        "from tqdm import tqdm_notebook\n",
        "from tensorflow.keras.preprocessing.image import ImageDataGenerator\n",
        "\n",
        "%matplotlib inline\n",
        "tf.__version__"
      ],
      "execution_count": 0,
      "outputs": []
    },
    {
      "cell_type": "markdown",
      "metadata": {
        "id": "Y8QZSM7CMBft",
        "colab_type": "text"
      },
      "source": [
        "### Specify the path to the data and unpack the zipfile"
      ]
    },
    {
      "cell_type": "code",
      "metadata": {
        "id": "DQMPzyWC_30d",
        "colab_type": "code",
        "colab": {}
      },
      "source": [
        "dataset_path = \"./cats_and_dogs_filtered.zip\""
      ],
      "execution_count": 0,
      "outputs": []
    },
    {
      "cell_type": "code",
      "metadata": {
        "id": "QpYCZ3yFAMHz",
        "colab_type": "code",
        "colab": {}
      },
      "source": [
        "zip_object = zipfile.ZipFile(file=dataset_path, mode=\"r\")"
      ],
      "execution_count": 0,
      "outputs": []
    },
    {
      "cell_type": "code",
      "metadata": {
        "id": "UgPVWAMFAWaZ",
        "colab_type": "code",
        "colab": {}
      },
      "source": [
        "zip_object.extractall(\"./\")"
      ],
      "execution_count": 0,
      "outputs": []
    },
    {
      "cell_type": "code",
      "metadata": {
        "id": "A9GfPaNcAeno",
        "colab_type": "code",
        "colab": {}
      },
      "source": [
        "zip_object.close()"
      ],
      "execution_count": 0,
      "outputs": []
    },
    {
      "cell_type": "markdown",
      "metadata": {
        "id": "RhJW__AZMKIK",
        "colab_type": "text"
      },
      "source": [
        "### Set up directory variables for getting images"
      ]
    },
    {
      "cell_type": "code",
      "metadata": {
        "id": "ywIUWQqpAhdB",
        "colab_type": "code",
        "colab": {}
      },
      "source": [
        "dataset_path_new = \"./cats_and_dogs_filtered/\""
      ],
      "execution_count": 0,
      "outputs": []
    },
    {
      "cell_type": "code",
      "metadata": {
        "id": "NJSvi26WA0Z_",
        "colab_type": "code",
        "colab": {}
      },
      "source": [
        "train_dir = os.path.join(dataset_path_new,\"train\")\n",
        "validation_dir = os.path.join(dataset_path_new,\"validation\")"
      ],
      "execution_count": 0,
      "outputs": []
    },
    {
      "cell_type": "markdown",
      "metadata": {
        "id": "GUq0nC6VMP-N",
        "colab_type": "text"
      },
      "source": [
        "### Load the base model, MobileNetV2 and specify the image input shape"
      ]
    },
    {
      "cell_type": "code",
      "metadata": {
        "id": "ItFZHYcYBBPF",
        "colab_type": "code",
        "colab": {}
      },
      "source": [
        "IMAGE_SHAPE = (128,128,3)"
      ],
      "execution_count": 0,
      "outputs": []
    },
    {
      "cell_type": "code",
      "metadata": {
        "id": "kTesW3ZWExB1",
        "colab_type": "code",
        "colab": {}
      },
      "source": [
        "base_model = tf.keras.applications.MobileNetV2(input_shape=IMAGE_SHAPE, include_top=False, weights=\"imagenet\")"
      ],
      "execution_count": 0,
      "outputs": []
    },
    {
      "cell_type": "markdown",
      "metadata": {
        "id": "eGAdPbT3MX81",
        "colab_type": "text"
      },
      "source": [
        "### Freeze the base network weights"
      ]
    },
    {
      "cell_type": "code",
      "metadata": {
        "id": "E9OXejmrFfWz",
        "colab_type": "code",
        "colab": {}
      },
      "source": [
        "base_model.trainable = False"
      ],
      "execution_count": 0,
      "outputs": []
    },
    {
      "cell_type": "code",
      "metadata": {
        "id": "rwZ0QV64HIS8",
        "colab_type": "code",
        "colab": {
          "base_uri": "https://localhost:8080/",
          "height": 34
        },
        "outputId": "a1ed0250-5c28-4edb-d2ef-c67e61f9e88e"
      },
      "source": [
        "base_model.output"
      ],
      "execution_count": 18,
      "outputs": [
        {
          "output_type": "execute_result",
          "data": {
            "text/plain": [
              "<tf.Tensor 'out_relu/Relu6:0' shape=(None, 4, 4, 1280) dtype=float32>"
            ]
          },
          "metadata": {
            "tags": []
          },
          "execution_count": 18
        }
      ]
    },
    {
      "cell_type": "code",
      "metadata": {
        "id": "_YXwNlFBHUN3",
        "colab_type": "code",
        "colab": {}
      },
      "source": [
        "global_average_layer = tf.keras.layers.GlobalAveragePooling2D()(base_model.output)"
      ],
      "execution_count": 0,
      "outputs": []
    },
    {
      "cell_type": "markdown",
      "metadata": {
        "id": "KYZ77QaAMdQx",
        "colab_type": "text"
      },
      "source": [
        "### Create a global average pooling layer to connect a custom output layer (The input shape of the output layer needs to match the previous layer, could flatten the images but they are too large in this case)"
      ]
    },
    {
      "cell_type": "code",
      "metadata": {
        "id": "JRJwQ8FeHoFg",
        "colab_type": "code",
        "colab": {}
      },
      "source": [
        "global_average_layer"
      ],
      "execution_count": 0,
      "outputs": []
    },
    {
      "cell_type": "markdown",
      "metadata": {
        "id": "PuLsLbGDMtS5",
        "colab_type": "text"
      },
      "source": [
        "### Specify the custom output layer, since this is binary classification we only need 1 neuron with a sigmoid activation"
      ]
    },
    {
      "cell_type": "code",
      "metadata": {
        "id": "ke-cPkGAHrzi",
        "colab_type": "code",
        "colab": {}
      },
      "source": [
        "prediction_layer = tf.keras.layers.Dense(units=1, activation=\"sigmoid\")(global_average_layer)"
      ],
      "execution_count": 0,
      "outputs": []
    },
    {
      "cell_type": "markdown",
      "metadata": {
        "id": "Dcc2a2yIM1F2",
        "colab_type": "text"
      },
      "source": [
        "### Summarize the base model before we connect our custom layers"
      ]
    },
    {
      "cell_type": "code",
      "metadata": {
        "id": "63erdtXxH8UY",
        "colab_type": "code",
        "colab": {}
      },
      "source": [
        "base_model.summary()"
      ],
      "execution_count": 0,
      "outputs": []
    },
    {
      "cell_type": "markdown",
      "metadata": {
        "id": "KfIQJjO3M9mA",
        "colab_type": "text"
      },
      "source": [
        "### Connect our pre-trained model with our custom output layer"
      ]
    },
    {
      "cell_type": "code",
      "metadata": {
        "id": "-L8G7pc3IBGy",
        "colab_type": "code",
        "colab": {}
      },
      "source": [
        "model = tf.keras.models.Model(inputs=base_model.inputs, outputs=prediction_layer)"
      ],
      "execution_count": 0,
      "outputs": []
    },
    {
      "cell_type": "markdown",
      "metadata": {
        "id": "B_4M-SwBNCJO",
        "colab_type": "text"
      },
      "source": [
        "### Notice our model now has the custom output layer"
      ]
    },
    {
      "cell_type": "code",
      "metadata": {
        "id": "kmngVCB_IWND",
        "colab_type": "code",
        "colab": {}
      },
      "source": [
        "model.summary()"
      ],
      "execution_count": 0,
      "outputs": []
    },
    {
      "cell_type": "markdown",
      "metadata": {
        "id": "MW6eLvpfNHkh",
        "colab_type": "text"
      },
      "source": [
        "### Compile the model with our optimizer (RMSprop is best for MobileNet), Binary crossentropy for our loss and simple accuracy metric"
      ]
    },
    {
      "cell_type": "code",
      "metadata": {
        "id": "sC1Tjp5oIYK5",
        "colab_type": "code",
        "colab": {}
      },
      "source": [
        "model.compile(optimizer=tf.keras.optimizers.RMSprop(0.0001),loss=\"binary_crossentropy\", metrics=[\"accuracy\"])"
      ],
      "execution_count": 0,
      "outputs": []
    },
    {
      "cell_type": "markdown",
      "metadata": {
        "id": "IsED4EUQNSPN",
        "colab_type": "text"
      },
      "source": [
        "### Images need to be rescaled before being fed into the model"
      ]
    },
    {
      "cell_type": "code",
      "metadata": {
        "id": "S5NgFUsVI-Be",
        "colab_type": "code",
        "colab": {}
      },
      "source": [
        "data_gen_train = ImageDataGenerator(rescale=1/255,)\n",
        "data_gen_valid = ImageDataGenerator(rescale=1/255,)"
      ],
      "execution_count": 0,
      "outputs": []
    },
    {
      "cell_type": "markdown",
      "metadata": {
        "id": "3Lrav8C3NZMJ",
        "colab_type": "text"
      },
      "source": [
        "### Use the Flow From Directory to get images, resize them and feed them into the network"
      ]
    },
    {
      "cell_type": "code",
      "metadata": {
        "id": "idlxy6PxJt5K",
        "colab_type": "code",
        "colab": {}
      },
      "source": [
        "train_generator = data_gen_train.flow_from_directory(train_dir, target_size=(128,128), batch_size=128, class_mode=\"binary\")"
      ],
      "execution_count": 0,
      "outputs": []
    },
    {
      "cell_type": "code",
      "metadata": {
        "id": "N3xDAYejKDyO",
        "colab_type": "code",
        "colab": {}
      },
      "source": [
        "valid_generator = data_gen_valid.flow_from_directory(validation_dir, target_size=(128,128), batch_size=128, class_mode=\"binary\")"
      ],
      "execution_count": 0,
      "outputs": []
    },
    {
      "cell_type": "markdown",
      "metadata": {
        "id": "lHmphUr5Ng70",
        "colab_type": "text"
      },
      "source": [
        "###Train the model, need to use the fit_generator function as opposed to just fit because we are using data generators - This will take a little while because our network is large"
      ]
    },
    {
      "cell_type": "code",
      "metadata": {
        "id": "Xfww-KggKr1h",
        "colab_type": "code",
        "colab": {}
      },
      "source": [
        "model.fit_generator(train_generator, epochs=5, validation_data=valid_generator)"
      ],
      "execution_count": 0,
      "outputs": []
    },
    {
      "cell_type": "code",
      "metadata": {
        "id": "R6l7-R9kLhJs",
        "colab_type": "code",
        "colab": {}
      },
      "source": [
        "valid_loss, valid_accuracy = model.evaluate_generator(valid_generator)"
      ],
      "execution_count": 0,
      "outputs": []
    },
    {
      "cell_type": "code",
      "metadata": {
        "id": "11ShRhmfOufL",
        "colab_type": "code",
        "colab": {
          "base_uri": "https://localhost:8080/",
          "height": 34
        },
        "outputId": "6bada53d-6120-45c4-8f1e-b9ea1fdcb29a"
      },
      "source": [
        "print(\"Accuracy after transfer learning: {}\".format(valid_accuracy))"
      ],
      "execution_count": 34,
      "outputs": [
        {
          "output_type": "stream",
          "text": [
            "Accuracy after transfer learning: 0.9409999847412109\n"
          ],
          "name": "stdout"
        }
      ]
    },
    {
      "cell_type": "markdown",
      "metadata": {
        "id": "Jtv2WyT3RbDj",
        "colab_type": "text"
      },
      "source": [
        "## Fine Tuning of Transfer Learning"
      ]
    },
    {
      "cell_type": "code",
      "metadata": {
        "id": "Naxf3cnzRYio",
        "colab_type": "code",
        "colab": {}
      },
      "source": [
        "### We're going to unfreeze the few tops layers of the base network, so we can get some better accuracy on our network as a whole "
      ],
      "execution_count": 0,
      "outputs": []
    },
    {
      "cell_type": "code",
      "metadata": {
        "id": "6R4ra_epRrHP",
        "colab_type": "code",
        "colab": {
          "base_uri": "https://localhost:8080/",
          "height": 34
        },
        "outputId": "ead58eb3-02ab-4ce6-ba47-73f971c3a5dc"
      },
      "source": [
        "print(\"Number of layers in the base model: {}\".format(len(base_model.layers)))"
      ],
      "execution_count": 37,
      "outputs": [
        {
          "output_type": "stream",
          "text": [
            "Number of layers in the base model: 155\n"
          ],
          "name": "stdout"
        }
      ]
    },
    {
      "cell_type": "markdown",
      "metadata": {
        "id": "ekI3NECyR_Kh",
        "colab_type": "text"
      },
      "source": [
        "### Unfreeze the base model layers"
      ]
    },
    {
      "cell_type": "code",
      "metadata": {
        "id": "Zt1Ey4x9R0ix",
        "colab_type": "code",
        "colab": {}
      },
      "source": [
        "base_model.trainable = True"
      ],
      "execution_count": 0,
      "outputs": []
    },
    {
      "cell_type": "markdown",
      "metadata": {
        "id": "xM5QyWy0SCGm",
        "colab_type": "text"
      },
      "source": [
        "### Create an index that specificies what layers in the base model you want to train"
      ]
    },
    {
      "cell_type": "code",
      "metadata": {
        "id": "BkOtHhLGSK8h",
        "colab_type": "code",
        "colab": {}
      },
      "source": [
        "fine_tune_at = 100"
      ],
      "execution_count": 0,
      "outputs": []
    },
    {
      "cell_type": "markdown",
      "metadata": {
        "id": "MbkxfkKJSdL6",
        "colab_type": "text"
      },
      "source": [
        "### Create a For Loop that freezes all layers after the fine tuning index"
      ]
    },
    {
      "cell_type": "code",
      "metadata": {
        "id": "ysf6sLzgSOKm",
        "colab_type": "code",
        "colab": {}
      },
      "source": [
        "for layer in base_model.layers[:fine_tune_at]:\n",
        "  layer.trainable = False"
      ],
      "execution_count": 0,
      "outputs": []
    },
    {
      "cell_type": "markdown",
      "metadata": {
        "id": "ewVaVlZ-SwJr",
        "colab_type": "text"
      },
      "source": [
        "### Recompile the model"
      ]
    },
    {
      "cell_type": "code",
      "metadata": {
        "id": "hgCbhozJSWxy",
        "colab_type": "code",
        "colab": {}
      },
      "source": [
        "model.compile(optimizer=tf.keras.optimizers.RMSprop(0.0001), loss=\"binary_crossentropy\", metrics=[\"accuracy\"])"
      ],
      "execution_count": 0,
      "outputs": []
    },
    {
      "cell_type": "code",
      "metadata": {
        "id": "QvjxvjUZS1oR",
        "colab_type": "code",
        "colab": {}
      },
      "source": [
        "model.fit_generator(train_generator, epochs=2,validation_data=valid_generator)"
      ],
      "execution_count": 0,
      "outputs": []
    },
    {
      "cell_type": "markdown",
      "metadata": {
        "id": "k2GNK_J3TqEs",
        "colab_type": "text"
      },
      "source": [
        "### In this case, fine tuning did not help our model, we have overfitting to the training data because our dataset is too small"
      ]
    },
    {
      "cell_type": "code",
      "metadata": {
        "id": "V6AzrvAyTL75",
        "colab_type": "code",
        "colab": {}
      },
      "source": [
        "valid_loss, valid_accuracy = model.evaluate_generator(valid_generator)"
      ],
      "execution_count": 0,
      "outputs": []
    },
    {
      "cell_type": "code",
      "metadata": {
        "id": "bLycKGZ_TghN",
        "colab_type": "code",
        "colab": {}
      },
      "source": [
        "print(\"Accuracy after fine tuning: {}\".format(valid_accuracy))"
      ],
      "execution_count": 0,
      "outputs": []
    },
    {
      "cell_type": "code",
      "metadata": {
        "id": "VuWv_DDHVKrH",
        "colab_type": "code",
        "colab": {}
      },
      "source": [
        ""
      ],
      "execution_count": 0,
      "outputs": []
    }
  ]
}